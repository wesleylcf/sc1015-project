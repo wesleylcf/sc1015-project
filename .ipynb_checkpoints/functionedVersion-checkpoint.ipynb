{
 "cells": [
  {
   "cell_type": "code",
   "execution_count": null,
   "metadata": {},
   "outputs": [],
   "source": [
    "def addMovingAvg(data, stockName):\n",
    "  print(\"Adding moving avg to {name}\".format(name = stockName))\n",
    "  data['DateTime'] = data.index\n",
    "  data['New_ID'] = range(1, 1+len(data))\n",
    "  data.index = data['New_ID']\n",
    "  data= data.drop(['New_ID'],axis=1)\n",
    "  ma_day = [30, 50]\n",
    "  for ma in ma_day:\n",
    "      column_name = f\"MovingAvg_{ma}\"\n",
    "      data[column_name] = data['Close'].rolling(ma).mean()\n",
    "  print(len(data))\n",
    "  for ma in ma_day:\n",
    "      column_name = f\"MovingAvg_{ma}\"\n",
    "      column_df = pd.DataFrame(data[column_name])\n",
    "      date = datetime(2021, 3, 10)\n",
    "      for day in range(1,ma+1):\n",
    "          _ = data.head(day)['Close']\n",
    "          avg = sum(_)/(day)\n",
    "          data.at[day,column_name] = avg\n",
    "  data.index = data['DateTime'] #change back index to date time for ML \n",
    "  data= data.drop(['DateTime'],axis=1) #drop\n",
    "  print(\"Adding moving avg to {name}, {name} head:\".format(name = stockName))\n",
    "  data.head(10)"
   ]
  },
  {
   "cell_type": "code",
   "execution_count": null,
   "metadata": {},
   "outputs": [],
   "source": [
    "def transform(data, stockName):\n",
    "  data['Open-high'] = data['Open']-data['High']\n",
    "  data['Open-low'] = data['Open'] - data['Low']\n",
    "  data['Close-high'] = data['Close']-data['High']\n",
    "  data['Close-low'] = data['Close'] - data['Low']\n",
    "  data['High-low'] = data['High'] - data['Low']\n",
    "  data['Open-close'] = data['Open'] - data['Close']\n",
    "  addMovingAvg(data, stockName)"
   ]
  },
  {
   "cell_type": "code",
   "execution_count": null,
   "metadata": {},
   "outputs": [],
   "source": [
    "def getLSTMTrainData(predictionDays: int, scaled_data, trainLength:int):\n",
    "  train_data = scaled_data[0:trainLength, :]\n",
    "  #Split the data into x_train and y_train data sets\n",
    "  #Independent training variable, list of 60 closing prices that is going to be used to predict next day closing price in y_train\n",
    "  x_train, y_train = [], []\n",
    "  #Dependent training variable, list of next day closing prices corresponding to each list in x_train to be predicted by LSTM\n",
    "  #Append past 60 values of the train_data\n",
    "  for i in range(predictionDays, trainLength):\n",
    "      x_train.append(train_data[i-predictionDays:i, 0]) \n",
    "      y_train.append(train_data[i,0]) \n",
    "  x_train, y_train = np.array(x_train), np.array(y_train)\n",
    "  # reshape as LSTM requires 3d array\n",
    "  x_train = np.reshape(x_train, (x_train.shape[0], x_train.shape[1], 1))\n",
    "  return x_train, y_train"
   ]
  },
  {
   "cell_type": "code",
   "execution_count": null,
   "metadata": {},
   "outputs": [],
   "source": [
    "def getLSTMTestData(prediction_days:int, dataset, scaled_data, trainLength:int):\n",
    "  #Creating new array contained scaled values \n",
    "  test_data = scaled_data[trainLength - prediction_days: , :]\n",
    "  x_test = []\n",
    "  y_test = dataset[trainLength: , :] #Containing values our model want to predict\n",
    "  for i in range(prediction_days, len(test_data)):\n",
    "      x_test.append(test_data[i-prediction_days:i,0])#Append the past 60 values to test dataset\n",
    "      \n",
    "  #Converting into numpy array to use in LSTM model\n",
    "  x_test = np.array(x_test)\n",
    "  x_test = np.reshape(x_test, (x_test.shape[0], x_test.shape[1], 1))\n",
    "  return x_test, y_test"
   ]
  },
  {
   "cell_type": "code",
   "execution_count": null,
   "metadata": {},
   "outputs": [],
   "source": [
    "def trainLSTM(x_train, y_train, x_test):\n",
    "  #Building the LSTM model\n",
    "  model = Sequential()\n",
    "  #First LSTM layer, giving it 50 neurons and return_sequences=True as we need to add another LSTM layer\n",
    "  model.add(LSTM(50, return_sequences=True, input_shape=(x_train.shape[1], 1)))\n",
    "  #Second LSTM layer\n",
    "  model.add(LSTM(50, return_sequences=False))\n",
    "  #Dense layer with 25 neurons\n",
    "  model.add(Dense(25))\n",
    "  #Dense layer with 1 neuron\n",
    "  model.add(Dense(1))\n",
    "  model.compile(optimizer='adam', loss='mean_squared_error')\n",
    "  model.fit(x_train, y_train, batch_size=32, epochs=100)\n",
    "  predicted = model.predict(x_test)\n",
    "  return scaler.inverse_transform(predictions)"
   ]
  },
  {
   "cell_type": "code",
   "execution_count": null,
   "metadata": {},
   "outputs": [],
   "source": [
    "  \n",
    "def evalPredicted(predicted, actual, modelName):\n",
    "  # RMSE = np.sqrt(((predicted - actual) ** 2).mean())\n",
    "  # R2 = met.r2_score(actual,predicted)\n",
    "  MSE = met.mean_squared_error(actual, predicted)\n",
    "  RMSE = math.sqrt(MSE)\n",
    "  R2 = met.r2_score(actual,predicted)\n",
    "  print('{modelName} Root Mean Squared Error is {rmse}'.format(modelName=modelName,rmse=RMSE))\n",
    "  print('{modelName} R Squared is {r2}'.format(modelName=modelName,r2=R2))\n",
    "  return RMSE, R2\n",
    "  "
   ]
  },
  {
   "cell_type": "code",
   "execution_count": null,
   "metadata": {},
   "outputs": [],
   "source": [
    "def plotModelResult(closingPrices, trainLength, predicted, name):\n",
    "  #Plot the data\n",
    "  train = closingPrices[:trainLength] # no need ?\n",
    "  data = closingPrices[trainLength:]\n",
    "  data['Predicted']=predicted\n",
    "  data.rename(columns={'Close':'Actual'},inplace = True)\n",
    "  #Visualise the model\n",
    "  plt.figure(figsize=(16,8))\n",
    "  plt.title(\"{name} Close Price\".format(name=name))\n",
    "  plt.xlabel('Date',fontsize=18)\n",
    "  plt.ylabel(\"{name} Close Price USD ($)\".format(name=name,fontsize=18))\n",
    "  #plt.plot(train['Close']) \n",
    "  plt.plot(data[['Actual','Predicted']])\n",
    "  plt.legend(['Actual Price','Predicted Price'])"
   ]
  },
  {
   "cell_type": "code",
   "execution_count": null,
   "metadata": {},
   "outputs": [],
   "source": [
    "def runLSTM(data, stockName, trainLength):\n",
    "  \"\"\"\n",
    "  @input (data: df/df-like data of one stock, stockName: string of that stock)\n",
    "  @output RMSE value of predicted against actual Values\n",
    "  \"\"\"\n",
    "  closingPrices = data.filter(['Close'])\n",
    "  dataset = closingPrices.values\n",
    "  #Scale the data\n",
    "  scaler = MinMaxScaler(feature_range=(0,1))\n",
    "  #Computes min and max value to be used for scaling, then transforms the data based on the min max values\n",
    "  scaled_data = scaler.fit_transform(dataset)\n",
    "  #Create the training data set\n",
    "  prediction_days = 60\n",
    "  x_train, y_train = getLSTMTrainData(prediction_days, scaled_data,trainLength)\n",
    "  x_test, y_test = getLSTMTestData(prediction_days, dataset, scaled_data, trainLength)\n",
    "  predicted = trainLSTM(x_train, y_train,x_test)\n",
    "  plotModelResult(closingPrices, trainLength, predicted, stockName)\n",
    "  RMSE, R2 = evalPredicted(predicted, y_test, \"LSTM\")\n",
    "  LSTM = data[training_data_len:]\n",
    "  LSTM['Predicted']=predictions\n",
    "  LSTM.rename(columns={'Close':'Actual'},inplace = True)\n",
    "  return RMSE, LSTM"
   ]
  },
  {
   "cell_type": "code",
   "execution_count": null,
   "metadata": {},
   "outputs": [],
   "source": [
    "def trainARIMA(train_data, test_data, stockName):\n",
    "  history = [x for x in train_data]\n",
    "  predicted = []\n",
    "  N_test_observations = len(test_data)\n",
    "  for time_point in range(N_test_observations):\n",
    "      model = ARIMA(history, order=(4,1,0))\n",
    "      model_fit = model.fit(disp=0)\n",
    "      output = model_fit.forecast()\n",
    "      yhat = output[0]\n",
    "      predicted.append(yhat)\n",
    "      true_test_value = test_data[time_point]\n",
    "      history.append(true_test_value)\n",
    "  return predicted"
   ]
  },
  {
   "cell_type": "code",
   "execution_count": null,
   "metadata": {},
   "outputs": [],
   "source": [
    "def runARIMA(data, stockName, trainLength):\n",
    "  train_data, test_data = data[0:trainLength]['Close'].values, data[trainLength:]['Close'].values\n",
    "  predicted = trainARIMA(train_data, test_data, stockName)\n",
    "  plotModelResult(data.filter(['Close']), trainLength, predicted, name)\n",
    "  RMSE, R2 = evalPredicted(predicted,)\n",
    "  ARIMA=pd.DataFrame({\"Actual\":test_data})\n",
    "  ARIMA[\"Predicted\"]=pd.DataFrame(predicted)\n",
    "  return RMSE, ARIMA"
   ]
  },
  {
   "cell_type": "code",
   "execution_count": null,
   "metadata": {},
   "outputs": [],
   "source": [
    "  \n",
    "def getOptimalModel(data, stockName):\n",
    "  # Transform data to include useful columns to use later on\n",
    "  transform(data, stockName) # check if it modifies actual data\n",
    "  trainLength = int(len(data)*0.8)\n",
    "  LSTM_RMSE, LSTM = runLSTM(data, stockName,trainLength )\n",
    "  ARIMA_RMSE, ARIMA = runARIMA(data,stockName,trainLength)\n",
    "  if ARIMA_RMSE<LSTM_RMSE:\n",
    "        print(\"ARIMA is Optimal\")\n",
    "        return ARIMA\n",
    "    else:\n",
    "        print(\"LSTM is Optimal\")\n",
    "        return LSTM"
   ]
  }
 ],
 "metadata": {
  "kernelspec": {
   "display_name": "Python 3 (ipykernel)",
   "language": "python",
   "name": "python3"
  },
  "language_info": {
   "codemirror_mode": {
    "name": "ipython",
    "version": 3
   },
   "file_extension": ".py",
   "mimetype": "text/x-python",
   "name": "python",
   "nbconvert_exporter": "python",
   "pygments_lexer": "ipython3",
   "version": "3.9.7"
  }
 },
 "nbformat": 4,
 "nbformat_minor": 2
}
