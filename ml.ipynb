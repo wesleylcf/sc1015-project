{
 "cells": [
  {
   "cell_type": "markdown",
   "metadata": {},
   "source": [
    "## Using Long Short Term Memory (LSTM) model to predict the closing price of a company using the past 60 day stock price data."
   ]
  },
  {
   "cell_type": "code",
   "execution_count": null,
   "metadata": {},
   "outputs": [],
   "source": [
    "import math\n",
    "import pandas_datareader as web\n",
    "import numpy as np\n",
    "from sklearn.preprocessing import MinMaxScaler\n",
    "from keras.models import Sequential\n",
    "from keras.layers import Dense, LSTM, Dropout\n",
    "import matplotlib.pyplot as plt\n",
    "import datetime as dt\n",
    "plt.style.use('fivethirtyeight')"
   ]
  },
  {
   "cell_type": "code",
   "execution_count": null,
   "metadata": {},
   "outputs": [],
   "source": [
    "#Getting stock quote\n",
    "company = 'TSLA'\n",
    "start = dt.datetime(2020, 3, 11)\n",
    "end = dt.datetime(2021, 3, 11)\n",
    "\n",
    "df = web.DataReader(company, 'yahoo', start, end)\n",
    "\n",
    "df"
   ]
  },
  {
   "cell_type": "code",
   "execution_count": null,
   "metadata": {},
   "outputs": [],
   "source": [
    "#Visualize the closing price history\n",
    "plt.figure(figsize=(16,8))\n",
    "plt.title(f\"{company} Close Price History\")\n",
    "plt.xlabel('Date',fontsize=18)\n",
    "plt.ylabel(f\"{company} Close Price USD ($)\",fontsize=18)\n",
    "\n",
    "plt.plot(df['Close'])\n",
    "plt.show()"
   ]
  },
  {
   "cell_type": "code",
   "execution_count": null,
   "metadata": {},
   "outputs": [],
   "source": [
    "#Create a new dataframe with only the 'Close column'\n",
    "data = df.filter(['Close'])\n",
    "\n",
    "#Convert the dataframe to a numpy array\n",
    "dataset = data.values\n",
    "\n",
    "#Get the number of rows to train the model on (80% of data that we have)\n",
    "training_data_len = math.ceil(len(dataset)*.8) #Math.ceil to round up\n",
    "\n",
    "training_data_len"
   ]
  },
  {
   "cell_type": "code",
   "execution_count": null,
   "metadata": {},
   "outputs": [],
   "source": [
    "#Scale the data\n",
    "scaler = MinMaxScaler(feature_range=(0,1))\n",
    "\n",
    "#Computes min and max value to be used for scaling, then transforms the data based on the min max values\n",
    "scaled_data = scaler.fit_transform(dataset)\n",
    "\n",
    "scaled_data"
   ]
  },
  {
   "cell_type": "code",
   "execution_count": null,
   "metadata": {},
   "outputs": [],
   "source": [
    "#Create the training data set\n",
    "prediction_days = 60\n",
    "\n",
    "#Create a scaled training data set, 0 up to 80% of allocated data\n",
    "train_data = scaled_data[0:training_data_len, :]\n",
    "\n",
    "#Split the data into x_train and y_train data sets\n",
    "#Independent training variable, list of 60 closing prices that is going to be used to predict next day closing price in y_train\n",
    "x_train = []\n",
    "#Dependent training variable, list of next day closing prices corresponding to each list in x_train to be predicted by LSTM\n",
    "y_train = [] \n",
    "\n",
    "#Append past 60 values of the train_data\n",
    "for i in range(prediction_days, len(train_data)):\n",
    "    x_train.append(train_data[i-60:i, 0]) \n",
    "    y_train.append(train_data[i,0]) \n",
    "    \n",
    "#Convert x_train and y_train to numpy arrays\n",
    "x_train, y_train = np.array(x_train), np.array(y_train)"
   ]
  },
  {
   "cell_type": "code",
   "execution_count": null,
   "metadata": {},
   "outputs": [],
   "source": [
    "#Reshape the data, as LSTM requires a 3-dimensional input\n",
    "x_train = np.reshape(x_train, (x_train.shape[0], x_train.shape[1], 1))\n",
    "x_train.shape"
   ]
  },
  {
   "cell_type": "code",
   "execution_count": null,
   "metadata": {},
   "outputs": [],
   "source": [
    "#Building the LSTM model\n",
    "model = Sequential()\n",
    "\n",
    "model.add(LSTM(units=50, return_sequences=True, input_shape=(x_train.shape[1], 1)))  #Number of layers, we can adjust\n",
    "model.add(Dropout(0.2))\n",
    "\n",
    "model.add(LSTM(units=50, return_sequences=True))\n",
    "model.add(Dropout(0.2))\n",
    "\n",
    "model.add(LSTM(units=50))\n",
    "model.add(Dropout(0.2))\n",
    "          \n",
    "model.add(Dense(units=1)) #Prediction of the next closing value\n",
    "          \n",
    "model.compile(optimizer='adam', loss='mean_squared_error')"
   ]
  },
  {
   "cell_type": "code",
   "execution_count": null,
   "metadata": {},
   "outputs": [],
   "source": [
    "#Training the LSTM model\n",
    "model.fit(x_train, y_train, batch_size=32, epochs=100)"
   ]
  },
  {
   "cell_type": "code",
   "execution_count": null,
   "metadata": {},
   "outputs": [],
   "source": [
    "#Create the testing data set\n",
    "\n",
    "#Creating new array contained scaled values \n",
    "test_data = scaled_data[training_data_len - prediction_days: , :]\n",
    "\n",
    "\n",
    "x_test = []\n",
    "y_test = dataset[training_data_len: , :] #Containing values our model want to predict\n",
    "\n",
    "for i in range(prediction_days, len(test_data)):\n",
    "    x_test.append(test_data[i-prediction_days:i,0])#Append the past 60 values to test dataset\n",
    "    \n",
    "#Converting into numpy array to use in LSTM model\n",
    "x_test = np.array(x_test)"
   ]
  },
  {
   "cell_type": "code",
   "execution_count": null,
   "metadata": {},
   "outputs": [],
   "source": [
    "#Reshape the data\n",
    "x_test = np.reshape(x_test, (x_test.shape[0], x_test.shape[1], 1))\n",
    "x_test.shape"
   ]
  },
  {
   "cell_type": "code",
   "execution_count": null,
   "metadata": {},
   "outputs": [],
   "source": [
    "#Get the predicted price values\n",
    "predictions = model.predict(x_test)\n",
    "predictions = scaler.inverse_transform(predictions)"
   ]
  },
  {
   "cell_type": "code",
   "execution_count": null,
   "metadata": {},
   "outputs": [],
   "source": [
    "#Getting RMSE to see how accurate the LSTM model is in predicting the closing price\n",
    "rmse = np.sqrt(((predictions - y_test) ** 2).mean())\n",
    "rmse"
   ]
  },
  {
   "cell_type": "code",
   "execution_count": null,
   "metadata": {},
   "outputs": [],
   "source": [
    "#Plot the data\n",
    "train = data[:training_data_len]\n",
    "valid = data[training_data_len:]\n",
    "valid['Predictions'] = predictions\n",
    "\n",
    "#Visualise the model\n",
    "plt.figure(figsize=(16,8))\n",
    "plt.title(f\"Model on {company} Close Price\")\n",
    "plt.xlabel('Date',fontsize=18)\n",
    "plt.ylabel(f\"{company} Close Price USD ($)\",fontsize=18)\n",
    "\n",
    "plt.plot(train['Close']) \n",
    "plt.plot(valid[['Close','Predictions']])\n",
    "plt.legend(['Train','Val','Predictions'], loc='lower right')"
   ]
  },
  {
   "cell_type": "code",
   "execution_count": null,
   "metadata": {},
   "outputs": [],
   "source": [
    "valid"
   ]
  },
  {
   "cell_type": "code",
   "execution_count": null,
   "metadata": {},
   "outputs": [],
   "source": [
    "#Setting up the data before predicting future price\n",
    "\n",
    "#Get quote\n",
    "quote = web.DataReader(company, data_source='yahoo', start='2021-01-01', end='2022-03-20')\n",
    "\n",
    "#Create a new dataframe\n",
    "new_df = quote.filter(['Close'])\n",
    "\n",
    "#Get the last 60 day closing price values and convert the dataframe to an array\n",
    "last_60_days = new_df[-60:].values\n",
    "\n",
    "#Scale the data to be values between 0 and 1\n",
    "last_60_days_scaled = scaler.transform(last_60_days)\n",
    "\n",
    "#Create an empty list\n",
    "X_test = []\n",
    "\n",
    "#Append the past 60 days to X_test list\n",
    "X_test.append(last_60_days_scaled)\n",
    "              \n",
    "#Convert the X_test data set to a numpty array\n",
    "X_test = np.array(X_test)\n",
    "              \n",
    "#Reshape the data\n",
    "X_test = np.reshape(X_test, (X_test.shape[0], X_test.shape[1], 1))\n",
    "\n",
    "#Get the predicted scaled price\n",
    "pred_price = model.predict(X_test)\n",
    "\n",
    "#Undo the scaling\n",
    "pred_price = scaler.inverse_transform(pred_price)\n",
    "\n",
    "print(pred_price)"
   ]
  },
  {
   "cell_type": "code",
   "execution_count": null,
   "metadata": {},
   "outputs": [],
   "source": [
    "#Predicted future price (next day)\n",
    "\n",
    "quote2 = web.DataReader(company, data_source='yahoo', start='2022-03-21', end='2022-03-21')\n",
    "print(tsla_quote2['Close'])"
   ]
  }
 ],
 "metadata": {
  "language_info": {
   "name": "python"
  },
  "orig_nbformat": 4
 },
 "nbformat": 4,
 "nbformat_minor": 2
}
